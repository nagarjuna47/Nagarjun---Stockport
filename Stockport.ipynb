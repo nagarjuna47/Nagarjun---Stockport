{
 "cells": [
  {
   "cell_type": "code",
   "execution_count": 2,
   "metadata": {},
   "outputs": [
    {
     "name": "stdout",
     "output_type": "stream",
     "text": [
      "Defaulting to user installation because normal site-packages is not writeable\n",
      "Collecting textblob\n",
      "  Downloading textblob-0.17.1-py2.py3-none-any.whl (636 kB)\n",
      "                                              0.0/636.8 kB ? eta -:--:--\n",
      "                                              0.0/636.8 kB ? eta -:--:--\n",
      "                                              0.0/636.8 kB ? eta -:--:--\n",
      "                                              0.0/636.8 kB ? eta -:--:--\n",
      "                                              0.0/636.8 kB ? eta -:--:--\n",
      "                                              0.0/636.8 kB ? eta -:--:--\n",
      "                                              0.0/636.8 kB ? eta -:--:--\n",
      "                                              10.2/636.8 kB ? eta -:--:--\n",
      "                                              10.2/636.8 kB ? eta -:--:--\n",
      "                                              10.2/636.8 kB ? eta -:--:--\n",
      "                                              10.2/636.8 kB ? eta -:--:--\n",
      "                                              10.2/636.8 kB ? eta -:--:--\n",
      "                                              10.2/636.8 kB ? eta -:--:--\n",
      "     -                                      30.7/636.8 kB 77.0 kB/s eta 0:00:08\n",
      "     -                                      30.7/636.8 kB 77.0 kB/s eta 0:00:08\n",
      "     -                                      30.7/636.8 kB 77.0 kB/s eta 0:00:08\n",
      "     --                                     41.0/636.8 kB 81.9 kB/s eta 0:00:08\n",
      "     ---                                    51.2/636.8 kB 90.4 kB/s eta 0:00:07\n",
      "     ---                                   61.4/636.8 kB 113.0 kB/s eta 0:00:06\n",
      "     ----                                  71.7/636.8 kB 122.9 kB/s eta 0:00:05\n",
      "     -----                                 92.2/636.8 kB 145.5 kB/s eta 0:00:04\n",
      "     -----                                 92.2/636.8 kB 145.5 kB/s eta 0:00:04\n",
      "     ------                               112.6/636.8 kB 163.8 kB/s eta 0:00:04\n",
      "     ------                               122.9/636.8 kB 171.4 kB/s eta 0:00:03\n",
      "     --------                             143.4/636.8 kB 185.1 kB/s eta 0:00:03\n",
      "     --------                             153.6/636.8 kB 191.1 kB/s eta 0:00:03\n",
      "     --------                             153.6/636.8 kB 191.1 kB/s eta 0:00:03\n",
      "     ---------                            174.1/636.8 kB 197.9 kB/s eta 0:00:03\n",
      "     ----------                           194.6/636.8 kB 214.3 kB/s eta 0:00:03\n",
      "     -----------                          204.8/636.8 kB 214.5 kB/s eta 0:00:03\n",
      "     ------------                         225.3/636.8 kB 221.9 kB/s eta 0:00:02\n",
      "     -------------                        235.5/636.8 kB 221.7 kB/s eta 0:00:02\n",
      "     --------------                       256.0/636.8 kB 231.2 kB/s eta 0:00:02\n",
      "     ---------------                      276.5/636.8 kB 243.4 kB/s eta 0:00:02\n",
      "     -----------------                    307.2/636.8 kB 250.0 kB/s eta 0:00:02\n",
      "     -----------------                    317.4/636.8 kB 252.0 kB/s eta 0:00:02\n",
      "     -----------------                    317.4/636.8 kB 252.0 kB/s eta 0:00:02\n",
      "     --------------------                 358.4/636.8 kB 268.4 kB/s eta 0:00:02\n",
      "     --------------------                 368.6/636.8 kB 269.9 kB/s eta 0:00:01\n",
      "     ----------------------               399.4/636.8 kB 279.7 kB/s eta 0:00:01\n",
      "     -----------------------              409.6/636.8 kB 274.9 kB/s eta 0:00:01\n",
      "     ------------------------             430.1/636.8 kB 282.7 kB/s eta 0:00:01\n",
      "     --------------------------           460.8/636.8 kB 291.2 kB/s eta 0:00:01\n",
      "     --------------------------           460.8/636.8 kB 291.2 kB/s eta 0:00:01\n",
      "     ---------------------------          491.5/636.8 kB 293.3 kB/s eta 0:00:01\n",
      "     ----------------------------         512.0/636.8 kB 305.8 kB/s eta 0:00:01\n",
      "     ------------------------------       542.7/636.8 kB 309.8 kB/s eta 0:00:01\n",
      "     ------------------------------       542.7/636.8 kB 309.8 kB/s eta 0:00:01\n",
      "     ------------------------------       542.7/636.8 kB 309.8 kB/s eta 0:00:01\n",
      "     -------------------------------      563.2/636.8 kB 299.9 kB/s eta 0:00:01\n",
      "     --------------------------------     573.4/636.8 kB 295.3 kB/s eta 0:00:01\n",
      "     ---------------------------------    593.9/636.8 kB 298.9 kB/s eta 0:00:01\n",
      "     ---------------------------------    593.9/636.8 kB 298.9 kB/s eta 0:00:01\n",
      "     ----------------------------------   614.4/636.8 kB 297.3 kB/s eta 0:00:01\n",
      "     ----------------------------------   614.4/636.8 kB 297.3 kB/s eta 0:00:01\n",
      "     -----------------------------------  634.9/636.8 kB 293.9 kB/s eta 0:00:01\n",
      "     ------------------------------------ 636.8/636.8 kB 292.6 kB/s eta 0:00:00\n",
      "Requirement already satisfied: nltk>=3.1 in c:\\users\\shreemathi\\appdata\\roaming\\python\\python311\\site-packages (from textblob) (3.8.1)\n",
      "Requirement already satisfied: click in c:\\users\\shreemathi\\appdata\\roaming\\python\\python311\\site-packages (from nltk>=3.1->textblob) (8.1.3)\n",
      "Requirement already satisfied: joblib in c:\\users\\shreemathi\\appdata\\roaming\\python\\python311\\site-packages (from nltk>=3.1->textblob) (1.3.2)\n",
      "Requirement already satisfied: regex>=2021.8.3 in c:\\users\\shreemathi\\appdata\\roaming\\python\\python311\\site-packages (from nltk>=3.1->textblob) (2023.8.8)\n",
      "Requirement already satisfied: tqdm in c:\\users\\shreemathi\\appdata\\roaming\\python\\python311\\site-packages (from nltk>=3.1->textblob) (4.66.1)\n",
      "Requirement already satisfied: colorama in c:\\users\\shreemathi\\appdata\\roaming\\python\\python311\\site-packages (from click->nltk>=3.1->textblob) (0.4.6)\n",
      "Installing collected packages: textblob\n",
      "Successfully installed textblob-0.17.1\n",
      "Note: you may need to restart the kernel to use updated packages.\n"
     ]
    },
    {
     "name": "stderr",
     "output_type": "stream",
     "text": [
      "\n",
      "[notice] A new release of pip is available: 23.1.2 -> 23.2.1\n",
      "[notice] To update, run: python.exe -m pip install --upgrade pip\n"
     ]
    }
   ],
   "source": [
    "pip install textblob\n"
   ]
  },
  {
   "cell_type": "code",
   "execution_count": 1,
   "metadata": {},
   "outputs": [
    {
     "name": "stdout",
     "output_type": "stream",
     "text": [
      "Polarity: 0.48522727272727273\n",
      "Subjectivity: 0.625\n",
      "The text is positive.\n"
     ]
    }
   ],
   "source": [
    "from textblob import TextBlob\n",
    "\n",
    "# Input text\n",
    "text = \"Stockport is a great place to live!\"\n",
    "\n",
    "# Create a TextBlob object\n",
    "blob = TextBlob(text)\n",
    "\n",
    "# Perform sentiment analysis\n",
    "sentiment = blob.sentiment\n",
    "\n",
    "# Print sentiment polarity and subjectivity\n",
    "print(f\"Polarity: {sentiment.polarity}\")\n",
    "print(f\"Subjectivity: {sentiment.subjectivity}\")\n",
    "\n",
    "# Interpret sentiment\n",
    "if sentiment.polarity > 0:\n",
    "    print(\"The text is positive.\")\n",
    "elif sentiment.polarity < 0:\n",
    "    print(\"The text is negative.\")\n",
    "else:\n",
    "    print(\"The text is neutral.\")"
   ]
  }
 ],
 "metadata": {
  "kernelspec": {
   "display_name": "Python 3",
   "language": "python",
   "name": "python3"
  },
  "language_info": {
   "codemirror_mode": {
    "name": "ipython",
    "version": 3
   },
   "file_extension": ".py",
   "mimetype": "text/x-python",
   "name": "python",
   "nbconvert_exporter": "python",
   "pygments_lexer": "ipython3",
   "version": "3.11.3"
  },
  "orig_nbformat": 4
 },
 "nbformat": 4,
 "nbformat_minor": 2
}
